{
 "cells": [
  {
   "cell_type": "code",
   "execution_count": null,
   "id": "63cb4f21-958b-4347-817c-2ced6fdaa9b1",
   "metadata": {},
   "outputs": [],
   "source": [
    "class Solution:\n",
    "    # Function to sort an array of 0s, 1s, and 2s\n",
    "    def sort012(self, arr):\n",
    "        # code here\n",
    "        low, mid, high = 0, 0, len(arr) - 1\n",
    "        \n",
    "        while mid <= high:\n",
    "            if arr[mid] == 0:\n",
    "                # Swap arr[low] and arr[mid]\n",
    "                arr[low], arr[mid] = arr[mid], arr[low]\n",
    "                low += 1\n",
    "                mid += 1\n",
    "            elif arr[mid] == 1:\n",
    "                # Move to next element\n",
    "                mid += 1\n",
    "            else:  # arr[mid] == 2\n",
    "                # Swap arr[mid] and arr[high]\n",
    "                arr[mid], arr[high] = arr[high], arr[mid]\n",
    "                high -= 1"
   ]
  },
  {
   "cell_type": "code",
   "execution_count": null,
   "id": "bbea9b67-c71e-4242-80cd-85678c31907f",
   "metadata": {},
   "outputs": [],
   "source": [
    "class Solution:\n",
    "    # Function to perform binary search\n",
    "    def binarysearch(self, arr, k):\n",
    "        #code here\n",
    "        low, high = 0, len(arr) - 1\n",
    "        \n",
    "        while low <= high:\n",
    "            mid = (low + high) // 2  # Calculate the middle index\n",
    "            \n",
    "            if arr[mid] == k:  # If element is found\n",
    "                return mid\n",
    "            elif arr[mid] < k:  # Search in the right half\n",
    "                low = mid + 1\n",
    "            else:  # Search in the left half\n",
    "                high = mid - 1\n",
    "        \n",
    "        return -1  # Element not found\n"
   ]
  }
 ],
 "metadata": {
  "kernelspec": {
   "display_name": "Python 3 (ipykernel)",
   "language": "python",
   "name": "python3"
  },
  "language_info": {
   "codemirror_mode": {
    "name": "ipython",
    "version": 3
   },
   "file_extension": ".py",
   "mimetype": "text/x-python",
   "name": "python",
   "nbconvert_exporter": "python",
   "pygments_lexer": "ipython3",
   "version": "3.12.4"
  }
 },
 "nbformat": 4,
 "nbformat_minor": 5
}
